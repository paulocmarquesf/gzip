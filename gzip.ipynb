{
 "cells": [
  {
   "cell_type": "markdown",
   "id": "0670c0ab-408d-4a7d-8c64-0b9a9a865380",
   "metadata": {},
   "source": [
    "# Movie reviews sentiment analysis"
   ]
  },
  {
   "cell_type": "markdown",
   "id": "ad027a97-e055-4db1-88da-a6bb974a2b6c",
   "metadata": {},
   "source": [
    "## Nearest neighbors using compression (gzip) based similarity"
   ]
  },
  {
   "cell_type": "markdown",
   "id": "325d1027-a203-4d94-80b4-eae70e8c2378",
   "metadata": {},
   "source": [
    "*Zhiying Jiang, Matthew Yang, Mikhail Tsirlin, Raphael Tang, Yiqin Dai, and Jimmy Lin. 2023. “Low-Resource” Text Classification: A Parameter-Free Classification Method with Compressors. In Findings of the Association for Computational Linguistics: ACL 2023, pages 6810–6828, Toronto, Canada. Association for Computational Linguistics.*"
   ]
  },
  {
   "cell_type": "code",
   "execution_count": 1,
   "id": "fb121a48-310e-49c0-a084-0c9be719f33c",
   "metadata": {},
   "outputs": [],
   "source": [
    "import numpy as np\n",
    "import pandas as pd\n",
    "from plotnine import *\n",
    "import gzip\n",
    "import nltk\n",
    "from nltk.corpus import movie_reviews\n",
    "from sklearn.model_selection import train_test_split\n",
    "from sklearn.metrics import (roc_curve, roc_auc_score)"
   ]
  },
  {
   "cell_type": "code",
   "execution_count": 2,
   "id": "ad100216-4cba-464b-a49c-ec20990d98a4",
   "metadata": {},
   "outputs": [],
   "source": [
    "# nltk.download('movie_reviews')"
   ]
  },
  {
   "cell_type": "code",
   "execution_count": 3,
   "id": "72f41eb5-ebed-44dc-8f1a-300d2a4b5b16",
   "metadata": {},
   "outputs": [],
   "source": [
    "reviews = [movie_reviews.raw(txt) for txt in movie_reviews.fileids()]"
   ]
  },
  {
   "cell_type": "code",
   "execution_count": 4,
   "id": "adbe9e66-8392-4e44-83d4-9863821a64e9",
   "metadata": {},
   "outputs": [],
   "source": [
    "polarities = [int(movie_reviews.categories(id)[0] == \"pos\") for id in movie_reviews.fileids()]"
   ]
  },
  {
   "cell_type": "code",
   "execution_count": 5,
   "id": "d8f876c8-3c51-4449-874c-721303b5ac6c",
   "metadata": {},
   "outputs": [],
   "source": [
    "db = pd.DataFrame({\"txt\": reviews, \"y\": polarities})"
   ]
  },
  {
   "cell_type": "code",
   "execution_count": 6,
   "id": "e39e55cc-599b-4ff8-ba28-ba5bb3b09e7a",
   "metadata": {},
   "outputs": [
    {
     "data": {
      "text/html": [
       "<div>\n",
       "<style scoped>\n",
       "    .dataframe tbody tr th:only-of-type {\n",
       "        vertical-align: middle;\n",
       "    }\n",
       "\n",
       "    .dataframe tbody tr th {\n",
       "        vertical-align: top;\n",
       "    }\n",
       "\n",
       "    .dataframe thead th {\n",
       "        text-align: right;\n",
       "    }\n",
       "</style>\n",
       "<table border=\"1\" class=\"dataframe\">\n",
       "  <thead>\n",
       "    <tr style=\"text-align: right;\">\n",
       "      <th></th>\n",
       "      <th>txt</th>\n",
       "      <th>y</th>\n",
       "    </tr>\n",
       "  </thead>\n",
       "  <tbody>\n",
       "    <tr>\n",
       "      <th>0</th>\n",
       "      <td>plot : two teen couples go to a church party ,...</td>\n",
       "      <td>0</td>\n",
       "    </tr>\n",
       "    <tr>\n",
       "      <th>1</th>\n",
       "      <td>the happy bastard's quick movie review \\ndamn ...</td>\n",
       "      <td>0</td>\n",
       "    </tr>\n",
       "    <tr>\n",
       "      <th>2</th>\n",
       "      <td>it is movies like these that make a jaded movi...</td>\n",
       "      <td>0</td>\n",
       "    </tr>\n",
       "    <tr>\n",
       "      <th>3</th>\n",
       "      <td>\" quest for camelot \" is warner bros . ' firs...</td>\n",
       "      <td>0</td>\n",
       "    </tr>\n",
       "    <tr>\n",
       "      <th>4</th>\n",
       "      <td>synopsis : a mentally unstable man undergoing ...</td>\n",
       "      <td>0</td>\n",
       "    </tr>\n",
       "  </tbody>\n",
       "</table>\n",
       "</div>"
      ],
      "text/plain": [
       "                                                 txt  y\n",
       "0  plot : two teen couples go to a church party ,...  0\n",
       "1  the happy bastard's quick movie review \\ndamn ...  0\n",
       "2  it is movies like these that make a jaded movi...  0\n",
       "3   \" quest for camelot \" is warner bros . ' firs...  0\n",
       "4  synopsis : a mentally unstable man undergoing ...  0"
      ]
     },
     "execution_count": 6,
     "metadata": {},
     "output_type": "execute_result"
    }
   ],
   "source": [
    "db.head()"
   ]
  },
  {
   "cell_type": "code",
   "execution_count": 7,
   "id": "cfbe6cd0-fe28-49d3-bf53-36f6dad5e7c0",
   "metadata": {},
   "outputs": [],
   "source": [
    "trn, tst = train_test_split(db, test_size = 0.5, random_state = 42)"
   ]
  },
  {
   "cell_type": "code",
   "execution_count": 8,
   "id": "9917e41a-a0a9-43b6-9532-7af9778270ad",
   "metadata": {},
   "outputs": [],
   "source": [
    "C2 = [len(gzip.compress(x2.encode())) for x2 in trn.txt]"
   ]
  },
  {
   "cell_type": "code",
   "execution_count": 9,
   "id": "bd4d6169-d5c6-46c1-87b2-bbf50b64181c",
   "metadata": {},
   "outputs": [],
   "source": [
    "dist = []\n",
    "for x1 in tst.txt:\n",
    "    c1 = len(gzip.compress(x1.encode()))\n",
    "    distance_from_x1 = []\n",
    "    for x2, c2 in zip(trn.txt, C2):\n",
    "        c12 = len(gzip.compress((x1 + \" \" + x2).encode()))\n",
    "        ncd = (c12 - min(c1, c2)) / max(c1, c2)\n",
    "        distance_from_x1.append(ncd)\n",
    "    dist.append(distance_from_x1)"
   ]
  },
  {
   "cell_type": "code",
   "execution_count": 10,
   "id": "e94ffd62-2c7a-41db-8815-fe24746035a2",
   "metadata": {},
   "outputs": [],
   "source": [
    "k = 147"
   ]
  },
  {
   "cell_type": "code",
   "execution_count": 11,
   "id": "8b7b621f-7fe3-4e65-974d-4b3fe7e8cf8c",
   "metadata": {},
   "outputs": [],
   "source": [
    "pr_ncd = [trn.y.iloc[np.argsort(d)[:k].tolist()].mean() for d in dist]"
   ]
  },
  {
   "cell_type": "code",
   "execution_count": 12,
   "id": "d61fb4f4-884b-4e8d-a12b-a672d44beeab",
   "metadata": {},
   "outputs": [],
   "source": [
    "fpr, tpr, threshold = roc_curve(tst.y, pr_ncd)"
   ]
  },
  {
   "cell_type": "code",
   "execution_count": 13,
   "id": "50304a18-a3d3-4c7e-a049-da90359ebb80",
   "metadata": {},
   "outputs": [],
   "source": [
    "theme_set(theme_bw());"
   ]
  },
  {
   "cell_type": "code",
   "execution_count": 14,
   "id": "0e79bc9d-fca5-4fdc-8475-fbe7171474b8",
   "metadata": {},
   "outputs": [
    {
     "data": {
      "image/png": "[encoded data removed]",
      "text/plain": [
       "<Figure size 400x400 with 1 Axes>"
      ]
     },
     "metadata": {},
     "output_type": "display_data"
    },
    {
     "data": {
      "text/plain": [
       "<ggplot: (116900594348)>"
      ]
     },
     "execution_count": 14,
     "metadata": {},
     "output_type": "execute_result"
    }
   ],
   "source": [
    "(ggplot() +\n",
    "     geom_line(aes(x = fpr, y = tpr), color = \"blue\", size = 1) +\n",
    "     geom_abline(linetype = \"dashed\") +\n",
    "     labs(x = \"FPR (1 -  Specificity)\", y = \"TPR (Sensitivity)\", title = \"ROC Movie Reviews gzip\") +\n",
    "     theme(figure_size = (4, 4)))"
   ]
  },
  {
   "cell_type": "code",
   "execution_count": 15,
   "id": "955b68e9-a9d4-43ff-a64c-a08cf2a3b85a",
   "metadata": {},
   "outputs": [
    {
     "name": "stdout",
     "output_type": "stream",
     "text": [
      "AUC = 0.858\n"
     ]
    }
   ],
   "source": [
    "print(f\"AUC = {roc_auc_score(tst.y, pr_ncd):.3f}\")"
   ]
  }
 ],
 "metadata": {
  "kernelspec": {
   "display_name": "Python 3 (ipykernel)",
   "language": "python",
   "name": "python3"
  },
  "language_info": {
   "codemirror_mode": {
    "name": "ipython",
    "version": 3
   },
   "file_extension": ".py",
   "mimetype": "text/x-python",
   "name": "python",
   "nbconvert_exporter": "python",
   "pygments_lexer": "ipython3",
   "version": "3.9.12"
  }
 },
 "nbformat": 4,
 "nbformat_minor": 5
}
